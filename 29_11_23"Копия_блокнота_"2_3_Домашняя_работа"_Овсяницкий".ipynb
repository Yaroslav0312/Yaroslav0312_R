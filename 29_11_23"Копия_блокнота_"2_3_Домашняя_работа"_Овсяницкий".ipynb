{
  "nbformat": 4,
  "nbformat_minor": 0,
  "metadata": {
    "colab": {
      "provenance": [],
      "include_colab_link": true
    },
    "kernelspec": {
      "name": "python3",
      "display_name": "Python 3"
    },
    "language_info": {
      "name": "python"
    }
  },
  "cells": [
    {
      "cell_type": "markdown",
      "metadata": {
        "id": "view-in-github",
        "colab_type": "text"
      },
      "source": [
        "<a href=\"https://colab.research.google.com/github/Yaroslav0312/Yaroslav0312_R/blob/main/29_11_23%22%D0%9A%D0%BE%D0%BF%D0%B8%D1%8F_%D0%B1%D0%BB%D0%BE%D0%BA%D0%BD%D0%BE%D1%82%D0%B0_%222_3_%D0%94%D0%BE%D0%BC%D0%B0%D1%88%D0%BD%D1%8F%D1%8F_%D1%80%D0%B0%D0%B1%D0%BE%D1%82%D0%B0%22_%D0%9E%D0%B2%D1%81%D1%8F%D0%BD%D0%B8%D1%86%D0%BA%D0%B8%D0%B9%22.ipynb\" target=\"_parent\"><img src=\"https://colab.research.google.com/assets/colab-badge.svg\" alt=\"Open In Colab\"/></a>"
      ]
    },
    {
      "cell_type": "markdown",
      "source": [
        "**Навигация по уроку**\n",
        "\n",
        "1. [Введение в Python. Синтаксис](https://colab.research.google.com/drive/1YBLgd6tZYlkhwpnEc4IM8tVnewLUnlUO#scrollTo=yqZjRAldfz_L)\n",
        "2. [Практика](https://colab.research.google.com/drive/1m-Ph90c-9S_gZchdG1ARoY2YjMTryKkl#scrollTo=UdxWiGmA63K2)\n",
        "3. Домашняя работа"
      ],
      "metadata": {
        "id": "ARGgA85EgS0p"
      }
    },
    {
      "cell_type": "markdown",
      "source": [
        "В домашней работе необходимо, используя знания теоретической части занятия и полученные практические навыки, решить, представленные ниже задачи. Для этого необходимо скопировать Блокнот (см. раздел 1.1.), решить в нем все задач, открыть общий доступ к Блокноту ((см. раздел 1.1.) и отправить ссылку на Блокнот куратору на проверку. Желаем удачи!"
      ],
      "metadata": {
        "id": "EdiQPIVgklWr"
      }
    },
    {
      "cell_type": "markdown",
      "source": [
        "## Задача 1. Приветствие."
      ],
      "metadata": {
        "id": "ZzjUAyrL6jgO"
      }
    },
    {
      "cell_type": "markdown",
      "source": [
        "**Условие.** Напишите программу, запрашивающую у пользователя его имя. В ответ\n",
        "на ввод на экране должно появиться приветствие с обращением по имени,\n",
        "введенному с клавиатуры ранее.\n"
      ],
      "metadata": {
        "id": "M4OAOB6s6mU7"
      }
    },
    {
      "cell_type": "code",
      "source": [
        "#Напишите свое решение\n",
        "name = input(\"Пожалуйста, введите ваше имя: \")\n",
        "print(f\"Привет, {name}! Добро пожаловать!\")"
      ],
      "metadata": {
        "id": "C2W-ZDOF6mzF",
        "colab": {
          "base_uri": "https://localhost:8080/"
        },
        "outputId": "415a6f44-5276-4f2f-ccde-92a671f8d5fe"
      },
      "execution_count": null,
      "outputs": [
        {
          "output_type": "stream",
          "name": "stdout",
          "text": [
            "Пожалуйста, введите ваше имя: Ярослав\n",
            "Привет, Ярослав! Добро пожаловать!\n"
          ]
        }
      ]
    },
    {
      "cell_type": "markdown",
      "source": [
        "## Задача 2. Сувениры и безделушки."
      ],
      "metadata": {
        "id": "UG8mwj2-eALV"
      }
    },
    {
      "cell_type": "markdown",
      "source": [
        "**Условие.** Интернет-магазин занимается продажей различных сувениров и безделушек. Каждый сувенир весит 75 г, а безделушка – 112 г. Напишите программу, запрашивающую у пользователя количество тех и других покупок,\n",
        "после чего выведите на экран общий вес посылки.\n"
      ],
      "metadata": {
        "id": "ay2EfeBreALW"
      }
    },
    {
      "cell_type": "code",
      "source": [
        "#Напишите свое решение\n",
        "object_number = int(input(\"Введите количество сувениров: \"))\n",
        "things_numbers = int(input(\"Введите количество безделушек: \"))\n",
        "object_weight = 75  # граммы\n",
        "thing_weight = 112  # граммы\n",
        "total_weight = (object_number * object_weight) + (things_numbers * thing_weight)\n",
        "print(f\"Общий вес посылки составляет {total_weight} грамм.\")"
      ],
      "metadata": {
        "id": "WY-KRVHyeALX",
        "outputId": "b218587c-356e-47b2-e771-21033d8cbf39",
        "colab": {
          "base_uri": "https://localhost:8080/"
        }
      },
      "execution_count": null,
      "outputs": [
        {
          "output_type": "stream",
          "name": "stdout",
          "text": [
            "Введите количество сувениров: 15\n",
            "Введите количество безделушек: 25\n",
            "Общий вес посылки составляет 3925 грамм.\n"
          ]
        }
      ]
    },
    {
      "cell_type": "markdown",
      "source": [
        "## Задача 3. Сложные проценты"
      ],
      "metadata": {
        "id": "v2IXqDTVeBfM"
      }
    },
    {
      "cell_type": "markdown",
      "source": [
        "**Условие.** Представьте, что вы открыли в банке сберегательный счет под 4 % годовых. Проценты банк рассчитывает в конце года и добавляет к сумме счета.\n",
        "Напишите программу, которая запрашивает у пользователя сумму первоначального депозита, после чего рассчитывает и выводит на экран сумму\n",
        "на счету в конце первого, второго и третьего годов. Все суммы должны\n",
        "быть округлены до двух знаков после запятой.\n",
        "\n"
      ],
      "metadata": {
        "id": "rGE3sh2ueBfN"
      }
    },
    {
      "cell_type": "code",
      "source": [
        "#Напишите свое решение\n",
        "initial_deposit = float(input(\"Введите сумму первоначального депозита: \"))\n",
        "annual_interest_rate = 0.04  # 4% в год\n",
        "balance_year1 = initial_deposit * (1 + annual_interest_rate)\n",
        "balance_year2 = balance_year1 * (1 + annual_interest_rate)\n",
        "balance_year3 = balance_year2 * (1 + annual_interest_rate)\n",
        "balance_year1 = round(balance_year1, 2)\n",
        "balance_year2 = round(balance_year2, 2)\n",
        "balance_year3 = round(balance_year3, 2)\n",
        "print(f\"Сумма на счету в конце первого года: RUB {balance_year1}\")\n",
        "print(f\"Сумма на счету в конце второго года: RUB {balance_year2}\")\n",
        "print(f\"Сумма на счету в конце третьего года: RUB {balance_year3}\")\n",
        "def recursive_percents(initial_deposit, annual_interest_rate, year):\n",
        "  if (year == 1) :\n",
        "    return initial_deposit * (1 + annual_interest_rate)\n",
        "  else:\n",
        "    previous_result_balance = recursive_percents(initial_deposit, annual_interest_rate, year - 1)\n",
        "    return previous_result_balance * (1 + annual_interest_rate)\n",
        "print(f\"Сумма на счету в конце первого года: RUB {recursive_percents(initial_deposit, annual_interest_rate, year = 1)}\")\n",
        "print(f\"Сумма на счету в конце второго года: RUB {recursive_percents(initial_deposit, annual_interest_rate, year = 2)}\")\n",
        "print(f\"Сумма на счету в конце третьего года: RUB {recursive_percents(initial_deposit, annual_interest_rate, year = 3)}\")\n",
        "def cycle_rate_calc(initial_deposit, annual_interest_rate, year):\n",
        "  index = 0\n",
        "  result = initial_deposit\n",
        "  while(index < year) :\n",
        "    result = result * (1 + annual_interest_rate)\n",
        "    index = index + 1\n",
        "  return result\n",
        "\n",
        "print(f\"Сумма на счету в конце первого года: RUB {cycle_rate_calc(initial_deposit, annual_interest_rate, year = 1)}\")\n",
        "print(f\"Сумма на счету в конце второго года: RUB {cycle_rate_calc(initial_deposit, annual_interest_rate, year = 2)}\")\n",
        "print(f\"Сумма на счету в конце третьего года: RUB {cycle_rate_calc(initial_deposit, annual_interest_rate, year = 3)}\")\n"
      ],
      "metadata": {
        "id": "0DYIIu98eBfN",
        "colab": {
          "base_uri": "https://localhost:8080/"
        },
        "outputId": "f8b44a05-5ca2-4775-d31e-89baed5f9753"
      },
      "execution_count": null,
      "outputs": [
        {
          "output_type": "stream",
          "name": "stdout",
          "text": [
            "Введите сумму первоначального депозита: 10000\n",
            "Сумма на счету в конце первого года: RUB 10400.0\n",
            "Сумма на счету в конце второго года: RUB 10816.0\n",
            "Сумма на счету в конце третьего года: RUB 11248.64\n",
            "Сумма на счету в конце первого года: RUB 10400.0\n",
            "Сумма на счету в конце второго года: RUB 10816.0\n",
            "Сумма на счету в конце третьего года: RUB 11248.640000000001\n",
            "Сумма на счету в конце первого года: RUB 10400.0\n",
            "Сумма на счету в конце второго года: RUB 10816.0\n",
            "Сумма на счету в конце третьего года: RUB 11248.640000000001\n"
          ]
        }
      ]
    },
    {
      "cell_type": "markdown",
      "source": [
        "## Задача 4. Арифметика"
      ],
      "metadata": {
        "id": "d9y6YzAvuW4l"
      }
    },
    {
      "cell_type": "markdown",
      "source": [
        "**Условие.** Создайте программу, которая запрашивает у пользователя два целых числа a и b, после чего выводит на экран результаты следующих математических операций:\n",
        "* сумма a и b;\n",
        "* разница между a и b;\n",
        "* произведение a и b;\n",
        "* частное от деления a на b;\n",
        "* остаток от деления a на b;\n",
        "* десятичный логарифм числа a;\n",
        "* результат возведения числа a в степень b."
      ],
      "metadata": {
        "id": "ZeZZ2IrUuW4m"
      }
    },
    {
      "cell_type": "code",
      "source": [
        "#Напишите свое решение\n",
        "import math\n",
        "a = int(input(\"Введите значение числа а: \"))\n",
        "b = int(input(\"Введите значение числа b: \"))\n",
        "def sum(a,b):\n",
        " return a + b\n",
        "def difference(a, b):\n",
        "  return a - b\n",
        "def multiple(a, b):\n",
        "  return a * b\n",
        "def quotient(a, b):\n",
        "  return a / b\n",
        "def remainder(a, b):\n",
        "  return a % b\n",
        "def logarithm(a):\n",
        "  return math.log10(abs(a))\n",
        "def power(x, y):\n",
        "    if(y == 0):\n",
        "        return 1\n",
        "    temp = power(x, int(y / 2))\n",
        "\n",
        "    if (y % 2 == 0):\n",
        "        return temp * temp\n",
        "    else:\n",
        "        if(y > 0):\n",
        "            return x * temp * temp\n",
        "        else:\n",
        "            return (temp * temp) / x\n",
        "print(f\"Сумма a и b: {sum(a,b)}\")\n",
        "print(f\"Разница между a и b: {difference(a, b)}\")\n",
        "print(f\"Произведение a и b: {multiple(a,b)}\")\n",
        "print(f\"Частное от деления a на b: {quotient(a,b)}\")\n",
        "print(f\"Остаток от деления a на b: {remainder(a,b)}\")\n",
        "print(f\"Десятичный логарифм числа a: {logarithm(a)}\")\n",
        "print(f\"Результат возведения числа a в степень b: {power(a,b)}\")\n",
        "\n",
        "\n",
        "\n"
      ],
      "metadata": {
        "id": "gCbjinmpuW4m",
        "colab": {
          "base_uri": "https://localhost:8080/"
        },
        "outputId": "feeacd78-0c65-4cee-f256-82397312ea4a"
      },
      "execution_count": null,
      "outputs": [
        {
          "output_type": "stream",
          "name": "stdout",
          "text": [
            "Введите значение числа а: 10\n",
            "Введите значение числа b: 25\n",
            "Сумма a и b: 35\n",
            "Разница между a и b: -15\n",
            "Произведение a и b: 250\n",
            "Частное от деления a на b: 0.4\n",
            "Остаток от деления a на b: 10\n",
            "Десятичный логарифм числа a: 1.0\n",
            "Результат возведения числа a в степень b: 10000000000000000000000000\n"
          ]
        }
      ]
    },
    {
      "cell_type": "markdown",
      "source": [
        "## Задача 5. Размен"
      ],
      "metadata": {
        "id": "EcSSCSnpeBto"
      }
    },
    {
      "cell_type": "markdown",
      "source": [
        "**Условие.** Представьте, что вы пишете программное обеспечение для автоматической кассы в  магазине самообслуживания. Одной из функций, заложенных в кассу, должен быть расчет сдачи в случае оплаты покупателем наличными.\n",
        "Напишите программу, которая будет запрашивать у пользователя сумму сдачи в копейках. После этого она должна рассчитать и вывести на экран, сколько и каких монет потребуется для выдачи указанной суммы, при условии что должно быть задействовано минимально возможное количество монет. Допустим, у нас есть в распоряжении монеты достоинством в 1, 5, 10, 50 копеек, а также в 1, 2 и 5 рублей.\n"
      ],
      "metadata": {
        "id": "VfX5FQQreBtp"
      }
    },
    {
      "cell_type": "code",
      "source": [
        "#Напишите свое решение\n",
        "def give_change(change_in_kopecks):\n",
        "    denominations = [500, 200, 100, 50, 10, 5, 1]\n",
        "    names = ['5 руб', '2 руб', '1 руб', '50 копеек', '10 копеек', '5 копеек', '1 копеек']\n",
        "    change = {name: 0 for name in names}\n",
        "    change_in_kopecks += (change.get('5 руб', 0) * 500) + (change.get('2 руб', 0) * 200) + (change.get('1 руб', 0) * 100)\n",
        "    for i in range(len(denominations)):\n",
        "        denomination = denominations[i]\n",
        "        name = names[i]\n",
        "        while change_in_kopecks >= denomination:\n",
        "            change[name] += 1\n",
        "            change_in_kopecks -= denomination\n",
        "    return change\n",
        "change_input = float(input(\"Введите сумму сдачи через точку в копейках  в формате РУБЛИ.КОПЕЙКИ: \"))\n",
        "def input_processing(input):\n",
        "  return input * 100\n",
        "change = give_change(input_processing(change_input))\n",
        "print(\"Чтобы сдать сдачу, вам понадобится:\")\n",
        "for name, quantity in change.items():\n",
        "    if quantity > 0:\n",
        "        print(f\"{quantity} x {name}\")"
      ],
      "metadata": {
        "id": "4ecMH2bjeBtp",
        "colab": {
          "base_uri": "https://localhost:8080/"
        },
        "outputId": "32cc290e-9dc8-43df-dd86-c92de8baa364"
      },
      "execution_count": null,
      "outputs": [
        {
          "output_type": "stream",
          "name": "stdout",
          "text": [
            "Введите сумму сдачи через точку в копейках  в формате РУБЛИ.КОПЕЙКИ: 5.50\n",
            "Чтобы сдать сдачу, вам понадобится:\n",
            "1 x 5 руб\n",
            "1 x 50 копеек\n"
          ]
        }
      ]
    },
    {
      "cell_type": "markdown",
      "source": [
        "## Задача 6. Вчерашний хлеб"
      ],
      "metadata": {
        "id": "26soP3cfeB8i"
      }
    },
    {
      "cell_type": "markdown",
      "source": [
        "**Условие.** Пекарня продает хлеб по 49 рублей за буханку. Скидка на вчерашний хлеб составляет 60 %. Напишите программу, которая будет запрашивать у пользователя количество приобретенных вчерашних буханок хлеба. В вывод на экран должны быть включены обычная цена за буханку, цена со скидкой и общая стоимость приобретенного хлеба. Все значения должны быть выведены на отдельных строках с соответствующими описаниями. Используйте для вывода формат с двумя знаками после запятой и 5-ю знакоместами.\n"
      ],
      "metadata": {
        "id": "t-cYNmWQeB8i"
      }
    },
    {
      "cell_type": "code",
      "source": [
        "#Напишите свое решение\n",
        "bread_price = 49 # в рублях\n",
        "discount = 60\n",
        "num_loaves = int(input(\"Количество вчерашних буханок хлеба: \"))\n",
        "price_with_discount = bread_price * (1 - discount / 100)\n",
        "total_cost = num_loaves + price_with_discount\n",
        "print(f\"Цена за буханку: {bread_price:.2f} руб.\")\n",
        "print(f\"Цена со скидкой: {price_with_discount:.2f} руб.\")\n",
        "print(f\"Итого: {total_cost:.2f} руб.\")"
      ],
      "metadata": {
        "id": "R2-WoQoveB8j",
        "colab": {
          "base_uri": "https://localhost:8080/"
        },
        "outputId": "ce59b7fb-e2d7-4c1c-8e19-a6a3a2f9f37f"
      },
      "execution_count": null,
      "outputs": [
        {
          "output_type": "stream",
          "name": "stdout",
          "text": [
            "Количество вчерашних буханок хлеба: 5\n",
            "Цена за буханку: 49.00 руб.\n",
            "Цена со скидкой: 19.60 руб.\n",
            "Итого: 24.60 руб.\n"
          ]
        }
      ]
    }
  ]
}