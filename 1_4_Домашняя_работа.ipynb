{
  "nbformat": 4,
  "nbformat_minor": 0,
  "metadata": {
    "colab": {
      "provenance": []
    },
    "kernelspec": {
      "name": "python3",
      "display_name": "Python 3"
    },
    "language_info": {
      "name": "python"
    }
  },
  "cells": [
    {
      "cell_type": "markdown",
      "source": [
        "**Навигация по уроку**\n",
        "\n",
        "1. [Знакомство с Google Colab](https://colab.research.google.com/drive/165RMZptKVyl7OKNt0jTiVAUcE76uBme0)\n",
        "2. [Знакомство с GitHub](https://colab.research.google.com/drive/1pAr69aYkwU61_56PyK1ahnE930VSx2MM)\n",
        "3. [Нейросети как сервис. Как сделать свой сервис на предобученных моделях](https://colab.research.google.com/drive/11rJ3Qmuh9UHgWSjDr13us9tLF0dHCyLS)\n",
        "4. Домашняя работа"
      ],
      "metadata": {
        "id": "ExyTGIwSFyI5"
      }
    },
    {
      "cell_type": "markdown",
      "source": [
        "В качестве домашнего задания мы хотим вам дать 2 задания:\n",
        "\n",
        "1. Творческое задание. Мы хотим, чтобы вы проявили свои творческие способности и поигралися с моделью **StableDiffusion**.\n",
        "2. Создайте себе профиль на GitHub.\n",
        "\n",
        "**Выполнение домашней работы:**\n",
        "\n",
        "1.   Скопируйте блокнот (если забыли, см. урок 1.1. Знакомство с Google Colab).\n",
        "2.   Переименуйте блокнот, в любое имя на ваш выбор.\n",
        "3.   Переведите среду выполнения в режим T4 GPU (1.3. Нейросети как сервис. Как сделать свой сервис на предобученных моделях).\n",
        "4.   Выполните ячейку с \"Необходимыми функциями\".\n",
        "5.   Добавте свои ячейки с 5 разными эксперементами (функция *createImagesStableDiffusion()* из прошлого блокнота, укажите 5 разных текста для генерации картинок).\n",
        "6.   Поделитесь блокнотом (общий доступ) с Куратором.\n",
        "7.   Создайте себе профиль на GitHub.\n",
        "8.   Создайте на GitHub публичный репозитарий с именем как ваш никнейм.\n",
        "9.   Добавьте в него файл README.md (вы также можете отметить галочку \"Add a README file\" при добавлении репозитория и он будет создан автоматически) и оформите его на свое усмотрение.\n",
        "10.  Отправьте ссылку на ваш профиль в GitHub куратору.\n",
        "\n",
        "\n",
        "Возникнут вопросы, не стесняйтесь обратиться за помощью к Куратору, он вам обязательно поможет."
      ],
      "metadata": {
        "id": "IHTWW0JPAcG_"
      }
    },
    {
      "cell_type": "code",
      "source": [
        "#@title Необходимые функции\n",
        "!pip -q install diffusers==0.10.0\n",
        "!pip -q install transformers scipy ftfy accelerate\n",
        "!pip -q install \"ipywidgets>=7,<8\"\n",
        "import torch\n",
        "from diffusers import StableDiffusionPipeline\n",
        "from PIL import Image\n",
        "\n",
        "from google.colab import output\n",
        "output.enable_custom_widget_manager()\n",
        "\n",
        "stableDiffusion = StableDiffusionPipeline.from_pretrained(\"CompVis/stable-diffusion-v1-4\", revision=\"fp16\", torch_dtype=torch.float16)\n",
        "stableDiffusion = stableDiffusion.to(\"cuda\")\n",
        "\n",
        "\n",
        "def createImagesStableDiffusion(prompt='', rows=2, cols=2, iteration=20):\n",
        "  # Запускаем генерацию\n",
        "  images =  stableDiffusion([prompt] * (rows*cols), num_inference_steps=iteration).images\n",
        "  w, h = images[0].size\n",
        "  grid = Image.new('RGB', size=(cols*w, rows*h))\n",
        "  grid_w, grid_h = grid.size\n",
        "\n",
        "  for i, img in enumerate(images):\n",
        "      grid.paste(img, box=(i%cols*w, i//cols*h))\n",
        "  display(grid)"
      ],
      "metadata": {
        "id": "rbgR2OMqFx15",
        "cellView": "form"
      },
      "execution_count": null,
      "outputs": []
    },
    {
      "cell_type": "code",
      "source": [
        "# Изменяя текст в кавычках получайте различные изображени. Вам необходимо получить 5 разных генераций, которыми вы захотите поделиться с Куратором :)\n",
        "createImagesStableDiffusion('Salvador Dali walks down the street with a cockroach on a leash, city, surrealism, crowded, people turn around, 8k, highly detailed, –ar 16:9 ', 2, 2, 100)"
      ],
      "metadata": {
        "id": "IrIPujN7C81p"
      },
      "execution_count": null,
      "outputs": []
    }
  ]
}